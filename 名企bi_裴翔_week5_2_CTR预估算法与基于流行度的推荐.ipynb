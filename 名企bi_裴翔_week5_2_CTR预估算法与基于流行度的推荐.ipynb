{
 "cells": [
  {
   "cell_type": "markdown",
   "metadata": {},
   "source": [
    "# lesson5-2 CTR预估算法与基于流行度的推荐"
   ]
  },
  {
   "cell_type": "markdown",
   "metadata": {},
   "source": [
    "## Thinking1 在CTR点击率预估中，使用GBDT+LR的原理是什么？"
   ]
  },
  {
   "cell_type": "markdown",
   "metadata": {},
   "source": [
    "通过将GBDT的特征进行组合，然后传给线性分类器(LR)去使用。    \n",
    "GBDT(由多颗cart决策树组成)在训练好使用的时候，输出的并不是最终的二分类概率值，而是把模型中每个树的概率预测值所属的叶子节点标记为1，通过这种方式的来构造新的特征。然后将此特征进行处理后再给到LR去进行二分类。  "
   ]
  },
  {
   "cell_type": "markdown",
   "metadata": {},
   "source": [
    "## Thinking2 Wide & Deep的模型结构是怎样的，为什么能通过具备记忆和泛化能力（memorization and generalization）\n"
   ]
  },
  {
   "cell_type": "markdown",
   "metadata": {},
   "source": [
    "Wide推荐：系统通过获得用户的购物数据，包括点击过哪些商品，购买过哪些商品。然后通过OneHot编码转换为离散特征，并通过embedding操作来降维；连续特征可以处理后使用；同时可以通过对离散特征进行特征组合生成新的特征。最后将embedding后的离散特征和本身的连续特征以及组合特征生成的新特征，统一进行特征处理和学习。该方法可解释性强，但是需要人工的进行特征操作。    \n",
    "Deep推荐：通过深度学习学习出一些向量，这些向量是隐性特征，一般没有可解释性。    \n",
    "Wide & Deep：通过将wide和deep结合，把两个模型组合ensemble来进行预测，从而使得模型既具有wide的记忆能力，又具有deep的泛化能力。"
   ]
  },
  {
   "cell_type": "markdown",
   "metadata": {},
   "source": [
    "## Thinking3 在CTR预估中，使用FM与DNN结合的方式，有哪些结合的方式，代表模型有哪些？"
   ]
  },
  {
   "cell_type": "markdown",
   "metadata": {},
   "source": [
    "两个模型并行的结合方式，代表有DeepFM，Wide&Deep   \n",
    "两个模型串行的结合方式，代表有NFM   \n",
    "两者的区别在于DeepFm可以将FM和DNN分开计算，可以并行的进行处理，而NFM由于需要将FM的结果作为DNN的输入，只能串行的进行处理"
   ]
  },
  {
   "cell_type": "markdown",
   "metadata": {},
   "source": [
    "## Thinking4 GBDT和随机森林都是基于树的算法，它们有什么区别？\n"
   ]
  },
  {
   "cell_type": "markdown",
   "metadata": {},
   "source": [
    "- GBDT是boosting算法     \n",
    "该方法的每一轮学习，都是根据当前多个树模型组合的值和真实值的差距来进行拟合学习。当采用平方误差时，体现出来的是不断的对残差进行拟合。但是由于只有训练好一个弱分类器，才可以进行后续分类器的训练，各个分类器有前后的关系，所以该方法只可以串行的进行训练。    \n",
    "- 随机森林是bagging算法     \n",
    "使用时会随机的选择数据进行训练很多个决策树，然后将多个模型共同的去进行最终结果的预测。由于多个决策树是各自单独训练的，所以随机森林可以并行的去计算训练。\n"
   ]
  },
  {
   "cell_type": "markdown",
   "metadata": {},
   "source": [
    "## Thinking5 item流行度在推荐系统中有怎样的应用\n"
   ]
  },
  {
   "cell_type": "markdown",
   "metadata": {},
   "source": [
    "- 最常见的是将榜单中热度的内容推荐给用户   \n",
    "- 基于流行度的推荐是围绕流行度计算产生的推荐模型  \n",
    "- 还可以根据流行度来推荐商品的算法，也就是什么内容吸引用户，就给用户推荐什么内容，来解决冷启动问题    \n",
    "- 在推荐系统中相同相似度下，考虑降低流行度的权重，更能代表用户的兴趣。"
   ]
  },
  {
   "cell_type": "markdown",
   "metadata": {},
   "source": [
    "## Action1 使用Wide&Deep模型对movielens进行评分预测\n"
   ]
  },
  {
   "cell_type": "code",
   "execution_count": 2,
   "metadata": {},
   "outputs": [],
   "source": [
    "import pandas as pd\n",
    "from sklearn.metrics import mean_squared_error\n",
    "from sklearn.model_selection import train_test_split\n",
    "from sklearn.preprocessing import LabelEncoder\n",
    "from deepctr.models import WDL\n",
    "from deepctr.feature_column import SparseFeat,get_feature_names"
   ]
  },
  {
   "cell_type": "code",
   "execution_count": 3,
   "metadata": {},
   "outputs": [],
   "source": [
    "# 加载数据\n",
    "data=pd.read_csv('movielens_sample.txt')\n",
    "sparse_features=['movie_id','user_id','gender','age','occupation','zip']\n",
    "target=['rating']"
   ]
  },
  {
   "cell_type": "code",
   "execution_count": 4,
   "metadata": {},
   "outputs": [
    {
     "data": {
      "text/html": [
       "<div>\n",
       "<style scoped>\n",
       "    .dataframe tbody tr th:only-of-type {\n",
       "        vertical-align: middle;\n",
       "    }\n",
       "\n",
       "    .dataframe tbody tr th {\n",
       "        vertical-align: top;\n",
       "    }\n",
       "\n",
       "    .dataframe thead th {\n",
       "        text-align: right;\n",
       "    }\n",
       "</style>\n",
       "<table border=\"1\" class=\"dataframe\">\n",
       "  <thead>\n",
       "    <tr style=\"text-align: right;\">\n",
       "      <th></th>\n",
       "      <th>user_id</th>\n",
       "      <th>movie_id</th>\n",
       "      <th>rating</th>\n",
       "      <th>timestamp</th>\n",
       "      <th>title</th>\n",
       "      <th>genres</th>\n",
       "      <th>gender</th>\n",
       "      <th>age</th>\n",
       "      <th>occupation</th>\n",
       "      <th>zip</th>\n",
       "    </tr>\n",
       "  </thead>\n",
       "  <tbody>\n",
       "    <tr>\n",
       "      <th>0</th>\n",
       "      <td>107</td>\n",
       "      <td>12</td>\n",
       "      <td>4</td>\n",
       "      <td>968035345</td>\n",
       "      <td>Ed Wood (1994)</td>\n",
       "      <td>Comedy|Drama</td>\n",
       "      <td>0</td>\n",
       "      <td>2</td>\n",
       "      <td>4</td>\n",
       "      <td>35</td>\n",
       "    </tr>\n",
       "    <tr>\n",
       "      <th>1</th>\n",
       "      <td>123</td>\n",
       "      <td>169</td>\n",
       "      <td>3</td>\n",
       "      <td>966536874</td>\n",
       "      <td>Patriot Games (1992)</td>\n",
       "      <td>Action|Thriller</td>\n",
       "      <td>1</td>\n",
       "      <td>1</td>\n",
       "      <td>4</td>\n",
       "      <td>118</td>\n",
       "    </tr>\n",
       "    <tr>\n",
       "      <th>2</th>\n",
       "      <td>12</td>\n",
       "      <td>6</td>\n",
       "      <td>4</td>\n",
       "      <td>976203603</td>\n",
       "      <td>Bridges of Madison County, The (1995)</td>\n",
       "      <td>Drama|Romance</td>\n",
       "      <td>0</td>\n",
       "      <td>2</td>\n",
       "      <td>13</td>\n",
       "      <td>99</td>\n",
       "    </tr>\n",
       "    <tr>\n",
       "      <th>3</th>\n",
       "      <td>21</td>\n",
       "      <td>112</td>\n",
       "      <td>3</td>\n",
       "      <td>975430389</td>\n",
       "      <td>Indiana Jones and the Temple of Doom (1984)</td>\n",
       "      <td>Action|Adventure</td>\n",
       "      <td>1</td>\n",
       "      <td>1</td>\n",
       "      <td>18</td>\n",
       "      <td>55</td>\n",
       "    </tr>\n",
       "    <tr>\n",
       "      <th>4</th>\n",
       "      <td>187</td>\n",
       "      <td>45</td>\n",
       "      <td>5</td>\n",
       "      <td>957782527</td>\n",
       "      <td>Apartment, The (1960)</td>\n",
       "      <td>Comedy|Drama</td>\n",
       "      <td>1</td>\n",
       "      <td>5</td>\n",
       "      <td>19</td>\n",
       "      <td>41</td>\n",
       "    </tr>\n",
       "    <tr>\n",
       "      <th>...</th>\n",
       "      <td>...</td>\n",
       "      <td>...</td>\n",
       "      <td>...</td>\n",
       "      <td>...</td>\n",
       "      <td>...</td>\n",
       "      <td>...</td>\n",
       "      <td>...</td>\n",
       "      <td>...</td>\n",
       "      <td>...</td>\n",
       "      <td>...</td>\n",
       "    </tr>\n",
       "    <tr>\n",
       "      <th>195</th>\n",
       "      <td>46</td>\n",
       "      <td>176</td>\n",
       "      <td>3</td>\n",
       "      <td>974840560</td>\n",
       "      <td>Screwed (2000)</td>\n",
       "      <td>Comedy</td>\n",
       "      <td>1</td>\n",
       "      <td>2</td>\n",
       "      <td>11</td>\n",
       "      <td>48</td>\n",
       "    </tr>\n",
       "    <tr>\n",
       "      <th>196</th>\n",
       "      <td>131</td>\n",
       "      <td>89</td>\n",
       "      <td>3</td>\n",
       "      <td>965855033</td>\n",
       "      <td>Fire Down Below (1997)</td>\n",
       "      <td>Action|Drama|Thriller</td>\n",
       "      <td>1</td>\n",
       "      <td>1</td>\n",
       "      <td>11</td>\n",
       "      <td>113</td>\n",
       "    </tr>\n",
       "    <tr>\n",
       "      <th>197</th>\n",
       "      <td>4</td>\n",
       "      <td>125</td>\n",
       "      <td>3</td>\n",
       "      <td>976730191</td>\n",
       "      <td>Desperately Seeking Susan (1985)</td>\n",
       "      <td>Comedy|Romance</td>\n",
       "      <td>0</td>\n",
       "      <td>1</td>\n",
       "      <td>13</td>\n",
       "      <td>83</td>\n",
       "    </tr>\n",
       "    <tr>\n",
       "      <th>198</th>\n",
       "      <td>181</td>\n",
       "      <td>15</td>\n",
       "      <td>4</td>\n",
       "      <td>958503395</td>\n",
       "      <td>Clear and Present Danger (1994)</td>\n",
       "      <td>Action|Adventure|Thriller</td>\n",
       "      <td>1</td>\n",
       "      <td>2</td>\n",
       "      <td>0</td>\n",
       "      <td>106</td>\n",
       "    </tr>\n",
       "    <tr>\n",
       "      <th>199</th>\n",
       "      <td>25</td>\n",
       "      <td>86</td>\n",
       "      <td>3</td>\n",
       "      <td>975270899</td>\n",
       "      <td>Liar Liar (1997)</td>\n",
       "      <td>Comedy</td>\n",
       "      <td>1</td>\n",
       "      <td>2</td>\n",
       "      <td>0</td>\n",
       "      <td>136</td>\n",
       "    </tr>\n",
       "  </tbody>\n",
       "</table>\n",
       "<p>200 rows × 10 columns</p>\n",
       "</div>"
      ],
      "text/plain": [
       "     user_id  movie_id  rating  timestamp  \\\n",
       "0        107        12       4  968035345   \n",
       "1        123       169       3  966536874   \n",
       "2         12         6       4  976203603   \n",
       "3         21       112       3  975430389   \n",
       "4        187        45       5  957782527   \n",
       "..       ...       ...     ...        ...   \n",
       "195       46       176       3  974840560   \n",
       "196      131        89       3  965855033   \n",
       "197        4       125       3  976730191   \n",
       "198      181        15       4  958503395   \n",
       "199       25        86       3  975270899   \n",
       "\n",
       "                                           title                     genres  \\\n",
       "0                                 Ed Wood (1994)               Comedy|Drama   \n",
       "1                           Patriot Games (1992)            Action|Thriller   \n",
       "2          Bridges of Madison County, The (1995)              Drama|Romance   \n",
       "3    Indiana Jones and the Temple of Doom (1984)           Action|Adventure   \n",
       "4                          Apartment, The (1960)               Comedy|Drama   \n",
       "..                                           ...                        ...   \n",
       "195                               Screwed (2000)                     Comedy   \n",
       "196                       Fire Down Below (1997)      Action|Drama|Thriller   \n",
       "197             Desperately Seeking Susan (1985)             Comedy|Romance   \n",
       "198              Clear and Present Danger (1994)  Action|Adventure|Thriller   \n",
       "199                             Liar Liar (1997)                     Comedy   \n",
       "\n",
       "     gender  age  occupation  zip  \n",
       "0         0    2           4   35  \n",
       "1         1    1           4  118  \n",
       "2         0    2          13   99  \n",
       "3         1    1          18   55  \n",
       "4         1    5          19   41  \n",
       "..      ...  ...         ...  ...  \n",
       "195       1    2          11   48  \n",
       "196       1    1          11  113  \n",
       "197       0    1          13   83  \n",
       "198       1    2           0  106  \n",
       "199       1    2           0  136  \n",
       "\n",
       "[200 rows x 10 columns]"
      ]
     },
     "execution_count": 4,
     "metadata": {},
     "output_type": "execute_result"
    }
   ],
   "source": [
    "# 对特征标签进行编码\n",
    "for feature in sparse_features:\n",
    "    lbe = LabelEncoder()\n",
    "    data[feature] = lbe.fit_transform(data[feature])\n",
    "\n",
    "data"
   ]
  },
  {
   "cell_type": "code",
   "execution_count": 5,
   "metadata": {},
   "outputs": [
    {
     "name": "stdout",
     "output_type": "stream",
     "text": [
      "WARNING:tensorflow:From d:\\Users\\rexcase\\anaconda3\\lib\\site-packages\\tensorflow\\python\\keras\\initializers.py:143: calling RandomNormal.__init__ (from tensorflow.python.ops.init_ops) with dtype is deprecated and will be removed in a future version.\n",
      "Instructions for updating:\n",
      "Call initializer instance with the dtype argument instead of passing it to the constructor\n"
     ]
    },
    {
     "data": {
      "text/plain": [
       "[SparseFeat(name='movie_id', vocabulary_size=187, embedding_dim=4, use_hash=False, dtype='int32', embeddings_initializer=<tensorflow.python.keras.initializers.RandomNormal object at 0x000002B326E213C8>, embedding_name='movie_id', group_name='default_group', trainable=True),\n",
       " SparseFeat(name='user_id', vocabulary_size=193, embedding_dim=4, use_hash=False, dtype='int32', embeddings_initializer=<tensorflow.python.keras.initializers.RandomNormal object at 0x000002B326DD7848>, embedding_name='user_id', group_name='default_group', trainable=True),\n",
       " SparseFeat(name='gender', vocabulary_size=2, embedding_dim=4, use_hash=False, dtype='int32', embeddings_initializer=<tensorflow.python.keras.initializers.RandomNormal object at 0x000002B326DD78C8>, embedding_name='gender', group_name='default_group', trainable=True),\n",
       " SparseFeat(name='age', vocabulary_size=7, embedding_dim=4, use_hash=False, dtype='int32', embeddings_initializer=<tensorflow.python.keras.initializers.RandomNormal object at 0x000002B326E016C8>, embedding_name='age', group_name='default_group', trainable=True),\n",
       " SparseFeat(name='occupation', vocabulary_size=20, embedding_dim=4, use_hash=False, dtype='int32', embeddings_initializer=<tensorflow.python.keras.initializers.RandomNormal object at 0x000002B326E01F48>, embedding_name='occupation', group_name='default_group', trainable=True),\n",
       " SparseFeat(name='zip', vocabulary_size=188, embedding_dim=4, use_hash=False, dtype='int32', embeddings_initializer=<tensorflow.python.keras.initializers.RandomNormal object at 0x000002B326DD2D08>, embedding_name='zip', group_name='default_group', trainable=True)]"
      ]
     },
     "execution_count": 5,
     "metadata": {},
     "output_type": "execute_result"
    }
   ],
   "source": [
    "# 计算每个特征中的 不同特征值的个数\n",
    "fixlen_feature_columns=[SparseFeat(feature,data[feature].nunique()) for feature in sparse_features]\n",
    "linear_feature_columns=fixlen_feature_columns\n",
    "dnn_feature_columns=fixlen_feature_columns\n",
    "feature_names=get_feature_names(linear_feature_columns+dnn_feature_columns)\n",
    "fixlen_feature_columns"
   ]
  },
  {
   "cell_type": "code",
   "execution_count": 6,
   "metadata": {},
   "outputs": [
    {
     "data": {
      "text/plain": [
       "{'movie_id': array([142,   8,   9, 146,  82, 170,  99, 156, 149,  25,  85,  49, 123,\n",
       "         31,  51, 169, 182,  30, 102,  19, 184, 165,  29, 107, 132,  11,\n",
       "         48, 112, 168,  73, 173, 149, 176, 134,  27,  18,  66,  67, 137,\n",
       "        126], dtype=int64),\n",
       " 'user_id': array([  5, 150,  45,  99,  97, 178,  56,  24, 109,   9,  84,  76, 147,\n",
       "        124,  79, 123, 106, 134,  48,  27,  61, 156, 108,  59, 125,  13,\n",
       "         74,  21, 192, 166,  10, 142,  46, 112,  39, 158, 183,  69, 175,\n",
       "         94], dtype=int64),\n",
       " 'gender': array([1, 1, 1, 1, 0, 0, 1, 1, 1, 1, 0, 1, 0, 1, 1, 1, 1, 1, 1, 0, 1, 0,\n",
       "        0, 1, 1, 0, 1, 1, 1, 1, 1, 1, 1, 1, 0, 1, 1, 1, 1, 1]),\n",
       " 'age': array([2, 6, 2, 1, 3, 2, 2, 5, 2, 2, 0, 5, 5, 3, 5, 1, 2, 2, 2, 5, 2, 5,\n",
       "        1, 2, 2, 2, 1, 1, 2, 2, 3, 2, 2, 3, 1, 3, 1, 4, 4, 1], dtype=int64),\n",
       " 'occupation': array([11,  7,  0,  0, 19,  6, 19,  1, 11, 11,  9, 15,  6,  7, 11,  4, 19,\n",
       "        16, 11,  0,  0, 17,  4,  3,  4,  0,  4, 18,  6,  7,  7,  0, 11,  1,\n",
       "         1, 16, 14, 13,  7,  0], dtype=int64),\n",
       " 'zip': array([139,  70, 131, 108, 178,   8,  37,  45, 120,  96,  82,  15,  81,\n",
       "         16, 125, 118,   5,  84, 147, 182,  78,  14, 130, 173, 112,  68,\n",
       "        101,  55,  26, 103,  18,  73,  48,  43, 158, 129, 153, 165,   3,\n",
       "         88])}"
      ]
     },
     "execution_count": 6,
     "metadata": {},
     "output_type": "execute_result"
    }
   ],
   "source": [
    "# 将数据集切分成训练集和测试集\n",
    "train,test=train_test_split(data,test_size=0.2)\n",
    "train_model_input={name:train[name].values for name in feature_names}\n",
    "test_model_input={name:test[name].values for name in feature_names}\n",
    "test_model_input"
   ]
  },
  {
   "cell_type": "code",
   "execution_count": 7,
   "metadata": {},
   "outputs": [
    {
     "name": "stdout",
     "output_type": "stream",
     "text": [
      "Epoch 1/3\n"
     ]
    },
    {
     "name": "stderr",
     "output_type": "stream",
     "text": [
      "d:\\Users\\rexcase\\anaconda3\\lib\\site-packages\\tensorflow\\python\\framework\\indexed_slices.py:434: UserWarning: Converting sparse IndexedSlices to a dense Tensor of unknown shape. This may consume a large amount of memory.\n",
      "  \"Converting sparse IndexedSlices to a dense Tensor of unknown shape. \"\n"
     ]
    },
    {
     "name": "stdout",
     "output_type": "stream",
     "text": [
      "1/1 [==============================] - 0s 256ms/step - loss: 14.1014 - mse: 14.1014 - val_loss: 13.6045 - val_mse: 13.6045\n",
      "Epoch 2/3\n",
      "1/1 [==============================] - 0s 38ms/step - loss: 13.9637 - mse: 13.9637 - val_loss: 13.4839 - val_mse: 13.4839\n",
      "Epoch 3/3\n",
      "1/1 [==============================] - 0s 35ms/step - loss: 13.8166 - mse: 13.8166 - val_loss: 13.3552 - val_mse: 13.3552\n"
     ]
    }
   ],
   "source": [
    "# 使用WDL进行训练\n",
    "model = WDL(linear_feature_columns, dnn_feature_columns, task='regression')\n",
    "model.compile(\"adam\", \"mse\", metrics=['mse'], )\n",
    "history = model.fit(train_model_input, train[target].values, batch_size=256, epochs=3, verbose=True, validation_split=0.2, )"
   ]
  },
  {
   "cell_type": "code",
   "execution_count": 9,
   "metadata": {},
   "outputs": [],
   "source": [
    "# 使用WDL进行预测\n",
    "pred_ans = model.predict(test_model_input, batch_size=256)"
   ]
  },
  {
   "cell_type": "code",
   "execution_count": 10,
   "metadata": {},
   "outputs": [
    {
     "name": "stdout",
     "output_type": "stream",
     "text": [
      "test RMSE 3.7711934450515794\n"
     ]
    }
   ],
   "source": [
    "# 输出RMSE或MSE\n",
    "mse = round(mean_squared_error(test[target].values, pred_ans), 4)\n",
    "rmse = mse ** 0.5\n",
    "print(\"test RMSE\", rmse)"
   ]
  },
  {
   "cell_type": "code",
   "execution_count": null,
   "metadata": {},
   "outputs": [],
   "source": []
  }
 ],
 "metadata": {
  "kernelspec": {
   "display_name": "Python 3",
   "language": "python",
   "name": "python3"
  },
  "language_info": {
   "codemirror_mode": {
    "name": "ipython",
    "version": 3
   },
   "file_extension": ".py",
   "mimetype": "text/x-python",
   "name": "python",
   "nbconvert_exporter": "python",
   "pygments_lexer": "ipython3",
   "version": "3.7.6"
  }
 },
 "nbformat": 4,
 "nbformat_minor": 4
}
